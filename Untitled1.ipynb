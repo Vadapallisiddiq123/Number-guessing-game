{
  "nbformat": 4,
  "nbformat_minor": 0,
  "metadata": {
    "colab": {
      "provenance": [],
      "authorship_tag": "ABX9TyO1V4UikfpTo63eJy0mTGQo",
      "include_colab_link": true
    },
    "kernelspec": {
      "name": "python3",
      "display_name": "Python 3"
    },
    "language_info": {
      "name": "python"
    }
  },
  "cells": [
    {
      "cell_type": "markdown",
      "metadata": {
        "id": "view-in-github",
        "colab_type": "text"
      },
      "source": [
        "<a href=\"https://colab.research.google.com/github/Vadapallisiddiq123/Number-guessing-game/blob/main/Untitled1.ipynb\" target=\"_parent\"><img src=\"https://colab.research.google.com/assets/colab-badge.svg\" alt=\"Open In Colab\"/></a>"
      ]
    },
    {
      "cell_type": "code",
      "execution_count": 1,
      "metadata": {
        "colab": {
          "base_uri": "https://localhost:8080/"
        },
        "id": "RyBcyRpd5n3w",
        "outputId": "f9ab8329-3e63-4173-d003-6637479d41e6"
      },
      "outputs": [
        {
          "output_type": "stream",
          "name": "stdout",
          "text": [
            "iE!9\n"
          ]
        }
      ],
      "source": [
        "# generating-password\n",
        "import random\n",
        "def passwordGenerator():\n",
        "    lowerchars = 'dtgyyhtfdewsfgbhjumnybnkiiuhjmki'\n",
        "    upperchars = 'HNGBTBFDWSCBNMOPUYTTERDEASXVBNMJHGTTHN'\n",
        "    specialchars = '$%$#@@#@!'\n",
        "    numericalchars = '51525117893157269'\n",
        "    password = random.choice(lowerchars) + random.choice(upperchars) + random.choice(specialchars)+ random.choice(numericalchars)\n",
        "    return password\n",
        "print(passwordGenerator())"
      ]
    }
  ]
}